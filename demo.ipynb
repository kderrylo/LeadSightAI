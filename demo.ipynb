{
 "cells": [
  {
   "cell_type": "code",
   "execution_count": 1,
   "metadata": {},
   "outputs": [
    {
     "name": "stdout",
     "output_type": "stream",
     "text": [
      "Libraries and configurations loaded successfully.\n"
     ]
    }
   ],
   "source": [
    "from langchain_ollama import OllamaEmbeddings, OllamaLLM\n",
    "from langchain_core.vectorstores import InMemoryVectorStore\n",
    "from langchain_community.document_loaders import SeleniumURLLoader\n",
    "from langchain_text_splitters import RecursiveCharacterTextSplitter\n",
    "from langchain_core.prompts import ChatPromptTemplate\n",
    "\n",
    "MODEL_NAME = \"llama3.2:3b\"\n",
    "CHUNK_SIZE = 1000\n",
    "CHUNK_OVERLAP = 200\n",
    "RAG_TEMPLATE = \"\"\"\n",
    "You are an assistant for question-answering tasks about companies. Use the following pieces of retrieved context to answer the question. If you don't know the answer, just say that you don't know. Keep the answer informative but concise.\n",
    "Question: {question} \n",
    "Context: {context} \n",
    "Answer:\n",
    "\"\"\""
   ]
  },
  {
   "cell_type": "code",
   "execution_count": 10,
   "metadata": {},
   "outputs": [],
   "source": [
    "embeddings = OllamaEmbeddings(model=MODEL_NAME)\n",
    "vector_store = InMemoryVectorStore(embeddings)\n",
    "model = OllamaLLM(model=MODEL_NAME)\n"
   ]
  },
  {
   "cell_type": "code",
   "execution_count": 6,
   "metadata": {},
   "outputs": [
    {
     "name": "stdout",
     "output_type": "stream",
     "text": [
      "Scraped 1 document(s) from echelonconsulting.com\n",
      "Sample content (first 200 characters):\n",
      "Forging Long-Term Partnerships\n",
      "\n",
      "Leaner And More Agile High-Performing Teams\n",
      "\n",
      "Aligning Your Business Needs With Modern Technology\n",
      "\n",
      "Helping You Reach Peak Performance\n",
      "\n",
      "Echelon Consulting is...\n",
      "\n",
      "\n",
      "\n",
      "Strategic\n",
      "\n",
      "A full-service, full lifecycle application development and application strategy house.\n",
      "\n",
      "\n",
      "\n",
      "Understanding\n",
      "\n",
      "A firm that understands people, process and technology.\n",
      "\n",
      "\n",
      "\n",
      "Ethical\n",
      "\n",
      "An ethical firm that forges long-term partnerships with our clients.\n",
      "\n",
      "\n",
      "\n",
      "Seasoned\n",
      "\n",
      "A seasoned team of full-time software engineers based in Chicago, with competencies that span a wide range of technologies and platforms, including mobile.\n",
      "\n",
      "\n",
      "\n",
      "Accessible\n",
      "\n",
      "A professional support team that offers 24x7x365 support.\n",
      "\n",
      "\n",
      "\n",
      "People Focused\n",
      "\n",
      "A firm that puts people at the forefront of our business.\n",
      "\n",
      "\n",
      "\n",
      "Custom application development and strategy consulting since 1997...\n",
      "\n",
      "\n",
      "\n",
      "Echelon origins: Learn about us...\n",
      "\n",
      "Learn About Us\n",
      "\n",
      "\n",
      "\n",
      "Working with our clients every step of the way...\n",
      "\n",
      "\n",
      "\n",
      "Need help? Learn about what we do...\n",
      "\n",
      "See Our Skills\n"
     ]
    }
   ],
   "source": [
    "def load_page(url):\n",
    "    try:\n",
    "        if not url.startswith(('http://', 'https://')):\n",
    "            url = 'https://' + url\n",
    "        loader = SeleniumURLLoader(urls=[url])\n",
    "        documents = loader.load()\n",
    "        return documents\n",
    "    except Exception as e:\n",
    "        print(f\"Error loading page: {str(e)}\")\n",
    "        return []\n",
    "\n",
    "url = \"echelonconsulting.com\"\n",
    "documents = load_page(url)\n",
    "\n",
    "print(f\"Scraped {len(documents)} document(s) from {url}\")\n",
    "if documents:\n",
    "    print(\"Sample content (first 200 characters):\")\n",
    "    print(documents[0].page_content[:200])\n",
    "else:\n",
    "    print(\"No content scraped.\")\n"
   ]
  },
  {
   "cell_type": "code",
   "execution_count": 7,
   "metadata": {},
   "outputs": [
    {
     "name": "stdout",
     "output_type": "stream",
     "text": [
      "Split into 4 chunks\n",
      "Sample chunk (first 200 characters):\n",
      "Forging Long-Term Partnerships\n",
      "\n",
      "Leaner And More Agile High-Performing Teams\n",
      "\n",
      "Aligning Your Business Needs With Modern Technology\n",
      "\n",
      "Helping You Reach Peak Performance\n",
      "\n",
      "Echelon Consulting is...\n",
      "\n",
      "\n",
      "\n",
      "Strate\n",
      "Metadata: {'source': 'https://echelonconsulting.com', 'title': 'Home | Echelon Consulting, L.L.C.', 'description': 'Embracing the unknown. Developing software solutions and strategies for multi-national clients since 1997.', 'language': 'en', 'start_index': 0}\n"
     ]
    }
   ],
   "source": [
    "def split_text(documents):\n",
    "    text_splitter = RecursiveCharacterTextSplitter(\n",
    "        chunk_size=CHUNK_SIZE,\n",
    "        chunk_overlap=CHUNK_OVERLAP,\n",
    "        add_start_index=True\n",
    "    )\n",
    "    return text_splitter.split_documents(documents)\n",
    "\n",
    "chunked_documents = split_text(documents)\n",
    "\n",
    "print(f\"Split into {len(chunked_documents)} chunks\")\n",
    "if chunked_documents:\n",
    "    print(\"Sample chunk (first 200 characters):\")\n",
    "    print(chunked_documents[0].page_content[:200])\n",
    "    print(f\"Metadata: {chunked_documents[0].metadata}\")\n"
   ]
  },
  {
   "cell_type": "code",
   "execution_count": 8,
   "metadata": {},
   "outputs": [
    {
     "name": "stdout",
     "output_type": "stream",
     "text": [
      "Indexed 4 documents into vector store.\n"
     ]
    }
   ],
   "source": [
    "def index_docs(documents):\n",
    "    vector_store.add_documents(documents)\n",
    "    print(f\"Indexed {len(documents)} documents into vector store.\")\n",
    "\n",
    "index_docs(chunked_documents)\n"
   ]
  },
  {
   "cell_type": "code",
   "execution_count": 9,
   "metadata": {},
   "outputs": [
    {
     "name": "stdout",
     "output_type": "stream",
     "text": [
      "Retrieved 4 documents for query: What services does Echelon Consulting offer?\n",
      "Sample retrieved content (first 200 characters):\n",
      "Echelon Consulting, L.L.C. 10 S. LaSalle St., Suite 2320, Chicago, IL 60603\n",
      "\n",
      "+1 312-642-2405\n",
      "\n",
      "inquiries@echelon.org\n",
      "\n",
      "Copyright © 2025 Echelon Consulting, L.L.C.\n",
      "\n",
      "Privacy Policy\n",
      "\n",
      "Cookie Policy\n",
      "\n",
      "The Ech\n",
      "\n",
      "Answer:\n",
      "Based on the retrieved context, I found that Echelon Consulting offers a range of services including:\n",
      "\n",
      "* Custom application development\n",
      "* Application strategy consulting\n",
      "* Leaner and more agile high-performing teams\n",
      "* Aligning business needs with modern technology\n",
      "* Helping clients reach peak performance\n",
      "* Strategic full-service, full lifecycle application development\n",
      "\n",
      "They also emphasize putting people at the forefront of their business, focusing on transparency, teamwork, and global responsibility.\n"
     ]
    }
   ],
   "source": [
    "def retrieve_docs(query):\n",
    "    return vector_store.similarity_search(query)\n",
    "\n",
    "def answer_question(question, context):\n",
    "    prompt = ChatPromptTemplate.from_template(RAG_TEMPLATE)\n",
    "    chain = prompt | model\n",
    "    return chain.invoke({\"question\": question, \"context\": context})\n",
    "\n",
    "question = \"What services does Echelon Consulting offer?\"\n",
    "retrieved_docs = retrieve_docs(question)\n",
    "\n",
    "print(f\"Retrieved {len(retrieved_docs)} documents for query: {question}\")\n",
    "if retrieved_docs:\n",
    "    print(\"Sample retrieved content (first 200 characters):\")\n",
    "    print(retrieved_docs[0].page_content[:200])\n",
    "\n",
    "context = \"\\n\\n\".join([doc.page_content for doc in retrieved_docs])\n",
    "answer = answer_question(question, context) if context else \"No information available.\"\n",
    "\n",
    "print(\"\\nAnswer:\")\n",
    "print(answer)\n"
   ]
  }
 ],
 "metadata": {
  "kernelspec": {
   "display_name": "llama_env",
   "language": "python",
   "name": "python3"
  },
  "language_info": {
   "codemirror_mode": {
    "name": "ipython",
    "version": 3
   },
   "file_extension": ".py",
   "mimetype": "text/x-python",
   "name": "python",
   "nbconvert_exporter": "python",
   "pygments_lexer": "ipython3",
   "version": "3.9.20"
  },
  "orig_nbformat": 4,
  "vscode": {
   "interpreter": {
    "hash": "f9b25be462d2ad75d09934865b42262d46fde9beb68cb61899c84cff04ef702a"
   }
  }
 },
 "nbformat": 4,
 "nbformat_minor": 2
}
